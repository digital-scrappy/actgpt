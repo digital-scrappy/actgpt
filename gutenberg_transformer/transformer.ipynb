{
 "cells": [
  {
   "cell_type": "code",
   "execution_count": 1,
   "id": "6f135cfb-1de5-4dee-ad9d-3995de240775",
   "metadata": {
    "tags": []
   },
   "outputs": [],
   "source": [
    "from tokenizers import Tokenizer\n",
    "import torch\n",
    "import torch.nn as nn\n",
    "from torch.nn import functional as F\n",
    "from tqdm.notebook import trange, tqdm\n",
    "\n",
    "from tokenizers import Tokenizer\n",
    "from tokenizers.models import WordPiece\n",
    "from tokenizers.pre_tokenizers import Whitespace\n",
    "from tokenizers.trainers import WordPieceTrainer\n",
    "\n",
    "from pathlib import Path"
   ]
  },
  {
   "cell_type": "markdown",
   "id": "55fcd171-8715-4a31-a403-010ea688cb4f",
   "metadata": {},
   "source": [
    "# Paths"
   ]
  },
  {
   "cell_type": "code",
   "execution_count": 2,
   "id": "293ef675-d033-484b-aea5-609d88a48a42",
   "metadata": {
    "tags": []
   },
   "outputs": [],
   "source": [
    "DATA_DIR = Path(\"data\")\n",
    "TOK_LOC = DATA_DIR / \"tokenizer-goethe_schiller_raimund.json\""
   ]
  },
  {
   "cell_type": "markdown",
   "id": "31aad426-944f-4629-9aaf-6d018a661813",
   "metadata": {},
   "source": [
    "# Params"
   ]
  },
  {
   "cell_type": "code",
   "execution_count": 3,
   "id": "3e8606d7-a2c9-44d8-ab13-5c76b520af5f",
   "metadata": {
    "tags": []
   },
   "outputs": [],
   "source": [
    "VOCAB_SIZE = 64**2\n",
    "BLOCK_SIZE = 10\n",
    "BATCH_SIZE = 512  # how many independent sequences will we process in parallel?\n",
    "MAX_ITERS = 5000\n",
    "EVAL_INTERVAL = 200\n",
    "LEARNING_RATE = 3e-4\n",
    "EVAL_ITERS = 10\n",
    "N_EMBD = 384\n",
    "N_HEAD = 6\n",
    "N_LAYER = 6\n",
    "DROPOUT = 0.2\n",
    "SPECIAL_TOKENS = [\"[UNK]\", \"[SOS]\", \"[EOS]\"]\n",
    "torch.manual_seed(1337)\n",
    "device = \"cuda\" if torch.cuda.is_available() else \"cpu\""
   ]
  },
  {
   "cell_type": "markdown",
   "id": "898629f7-1339-4c03-a165-f280a002a716",
   "metadata": {},
   "source": [
    "# Tokenizer"
   ]
  },
  {
   "cell_type": "code",
   "execution_count": 4,
   "id": "ad9a2583-942c-47f6-ad55-40be02ce6ceb",
   "metadata": {
    "tags": []
   },
   "outputs": [
    {
     "name": "stdout",
     "output_type": "stream",
     "text": [
      "\n",
      "\n",
      "\n"
     ]
    }
   ],
   "source": [
    "tokenizer = Tokenizer(WordPiece())\n",
    "tokenizer.pre_tokenizer = Whitespace()\n",
    "trainer = WordPieceTrainer(vocab_size=VOCAB_SIZE, special_tokens=SPECIAL_TOKENS)\n",
    "\n",
    "tokenizer.train([str(DATA_DIR / \"train.txt\")], trainer)\n",
    "tokenizer.save(str(TOK_LOC))\n",
    "tokenizer = Tokenizer.from_file(str(TOK_LOC))\n",
    "\n",
    "with open(DATA_DIR / \"train.txt\", \"r\") as f:\n",
    "    train_enc = tokenizer.encode(f.read())\n",
    "with open(DATA_DIR / \"val.txt\", \"r\") as f:\n",
    "    val_enc = tokenizer.encode(f.read())\n"
   ]
  },
  {
   "cell_type": "code",
   "execution_count": 9,
   "id": "1a76be58-45e0-4732-a5db-1863b01d68f0",
   "metadata": {
    "tags": []
   },
   "outputs": [],
   "source": [
    "def build_batch(split):\n",
    "    data = train_enc.ids if split == 'train' else val_enc.ids\n",
    "    ix = torch.randint(len(data) - BLOCK_SIZE, (BATCH_SIZE,))\n",
    "    #torch.tensor uses ints and torch.Tensor uses float also torch.Tensor is annoying\n",
    "    x = torch.stack([torch.tensor(data[i:i+BLOCK_SIZE]) for i in ix])\n",
    "    y = torch.stack([torch.tensor(data[i+1:i+BLOCK_SIZE+1]) for i in ix])\n",
    "    X, Y = x.to(device), y.to(device)\n",
    "    return X, Y\n",
    "\n",
    "@torch.no_grad()\n",
    "def estimate_loss():\n",
    "    out = {}\n",
    "    m.eval()\n",
    "    for split in ['train', 'val']:\n",
    "        losses = torch.zeros(EVAL_ITERS)\n",
    "        for k in range(EVAL_ITERS):\n",
    "            X, Y = build_batch(split)\n",
    "            logits, loss = m(X, Y)\n",
    "            losses[k] = loss.item()\n",
    "        out[split] = losses.mean()\n",
    "    m.train()\n",
    "    return out\n",
    "\n",
    "\n",
    "     \n",
    "\n",
    "class Head(nn.Module):\n",
    "    \n",
    "    def __init__(self, head_size):\n",
    "        super().__init__()\n",
    "        self.key   = nn.Linear(N_EMBD, head_size, bias=False)\n",
    "        self.query = nn.Linear(N_EMBD, head_size, bias=False)\n",
    "        self.value = nn.Linear(N_EMBD, head_size, bias=False)\n",
    "        self.register_buffer('tril', torch.tril(torch.ones(BLOCK_SIZE, BLOCK_SIZE)))\n",
    "        \n",
    "    def forward(self, x):\n",
    "        B,T,C = x.shape\n",
    "        k = self.key(x)\n",
    "        q = self.query(x)\n",
    "        v = self.value(x)\n",
    "        wei = q @ k.transpose(-2, -1) * C**-0.5\n",
    "        wei = wei.masked_fill(self.tril[:T,:T] == 0, float('-inf'))\n",
    "        wei = F.softmax(wei, dim=-1)\n",
    "        out = wei @ v\n",
    "        return out\n",
    "        \n",
    "        \n",
    "class Transformer(nn.Module):\n",
    "    \n",
    "    def __init__(self):\n",
    "        super().__init__()\n",
    "        self.token_embedding_table = nn.Embedding(VOCAB_SIZE, N_EMBD)\n",
    "        self.positon_embedding_table = nn.Embedding(BLOCK_SIZE, N_EMBD)\n",
    "        self.sa_head = Head(N_EMBD)\n",
    "        self.lm_head = nn.Linear(N_EMBD, VOCAB_SIZE).to(device)\n",
    "        \n",
    "    \n",
    "    def forward(self, idx, targets=None):\n",
    "        B, T = idx.shape\n",
    "        tok_emb = self.token_embedding_table(idx)\n",
    "        pos_emb = self.positon_embedding_table(torch.arange(T, device=device))\n",
    "        x = tok_emb + pos_emb\n",
    "        x = self.sa_head(x)\n",
    "        logits = self.lm_head(x)\n",
    "        \n",
    "        \n",
    "        \n",
    "        if targets is None:\n",
    "            loss = None\n",
    "        else:\n",
    "        \n",
    "            B, T, C = logits.shape\n",
    "        \n",
    "            logits = logits.view(B*T, C)\n",
    "            targets = targets.view(B*T)\n",
    "            loss = F.cross_entropy(logits, targets)\n",
    "        return logits, loss\n",
    "    \n",
    "    def generate(self, idx, max_new_tokens):\n",
    "        for _ in range(max_new_tokens):\n",
    "            idx_cond = idx[:,-block_size:]\n",
    "            logits, loss = self(idx_cond)\n",
    "            logits = logits[:, -1, :]\n",
    "            probs = F.softmax(logits, dim=-1)\n",
    "            idx_next = torch.multinomial(probs, num_samples=1)\n",
    "            idx = torch.cat((idx, idx_next), dim=1)\n",
    "        return idx   \n",
    "        \n"
   ]
  },
  {
   "cell_type": "code",
   "execution_count": 10,
   "id": "18cd426d-77bc-4861-b2fc-0e0341011d31",
   "metadata": {
    "tags": []
   },
   "outputs": [
    {
     "name": "stdout",
     "output_type": "stream",
     "text": [
      "torch.Size([5120, 4096])\n",
      "tensor(8.3644, grad_fn=<NllLossBackward0>)\n"
     ]
    },
    {
     "ename": "NameError",
     "evalue": "name 'block_size' is not defined",
     "output_type": "error",
     "traceback": [
      "\u001b[0;31m---------------------------------------------------------------------------\u001b[0m",
      "\u001b[0;31mNameError\u001b[0m                                 Traceback (most recent call last)",
      "Cell \u001b[0;32mIn[10], line 7\u001b[0m\n\u001b[1;32m      5\u001b[0m \u001b[38;5;28mprint\u001b[39m(loss)\n\u001b[1;32m      6\u001b[0m idx \u001b[38;5;241m=\u001b[39m torch\u001b[38;5;241m.\u001b[39mzeros((\u001b[38;5;241m1\u001b[39m,\u001b[38;5;241m1\u001b[39m), dtype\u001b[38;5;241m=\u001b[39mtorch\u001b[38;5;241m.\u001b[39mlong)\u001b[38;5;241m.\u001b[39mto(device)\n\u001b[0;32m----> 7\u001b[0m idx \u001b[38;5;241m=\u001b[39m \u001b[43mm\u001b[49m\u001b[38;5;241;43m.\u001b[39;49m\u001b[43mgenerate\u001b[49m\u001b[43m(\u001b[49m\u001b[43midx\u001b[49m\u001b[43m,\u001b[49m\u001b[43m \u001b[49m\u001b[43mmax_new_tokens\u001b[49m\u001b[38;5;241;43m=\u001b[39;49m\u001b[38;5;241;43m100\u001b[39;49m\u001b[43m)\u001b[49m[\u001b[38;5;241m0\u001b[39m]\u001b[38;5;241m.\u001b[39mtolist()\n\u001b[1;32m      8\u001b[0m \u001b[38;5;28mprint\u001b[39m(tokenizer\u001b[38;5;241m.\u001b[39mdecode(idx))\n",
      "Cell \u001b[0;32mIn[9], line 81\u001b[0m, in \u001b[0;36mTransformer.generate\u001b[0;34m(self, idx, max_new_tokens)\u001b[0m\n\u001b[1;32m     79\u001b[0m \u001b[38;5;28;01mdef\u001b[39;00m \u001b[38;5;21mgenerate\u001b[39m(\u001b[38;5;28mself\u001b[39m, idx, max_new_tokens):\n\u001b[1;32m     80\u001b[0m     \u001b[38;5;28;01mfor\u001b[39;00m _ \u001b[38;5;129;01min\u001b[39;00m \u001b[38;5;28mrange\u001b[39m(max_new_tokens):\n\u001b[0;32m---> 81\u001b[0m         idx_cond \u001b[38;5;241m=\u001b[39m idx[:,\u001b[38;5;241m-\u001b[39m\u001b[43mblock_size\u001b[49m:]\n\u001b[1;32m     82\u001b[0m         logits, loss \u001b[38;5;241m=\u001b[39m \u001b[38;5;28mself\u001b[39m(idx_cond)\n\u001b[1;32m     83\u001b[0m         logits \u001b[38;5;241m=\u001b[39m logits[:, \u001b[38;5;241m-\u001b[39m\u001b[38;5;241m1\u001b[39m, :]\n",
      "\u001b[0;31mNameError\u001b[0m: name 'block_size' is not defined"
     ]
    }
   ],
   "source": [
    "xb, yb = build_batch(\"train\")\n",
    "m = Transformer().to(device)\n",
    "logits, loss = m(xb, yb)\n",
    "print(logits.shape)\n",
    "print(loss)\n",
    "idx = torch.zeros((1,1), dtype=torch.long).to(device)\n",
    "idx = m.generate(idx, max_new_tokens=100)[0].tolist()\n",
    "print(tokenizer.decode(idx))"
   ]
  },
  {
   "cell_type": "code",
   "execution_count": null,
   "id": "4b8f293c-5b44-48d8-b37e-5bd2303f7b87",
   "metadata": {
    "tags": []
   },
   "outputs": [],
   "source": [
    "optimizer = torch.optim.AdamW(m.parameters(),lr=1e-3)"
   ]
  },
  {
   "cell_type": "code",
   "execution_count": null,
   "id": "206e438c-89ce-4010-b08c-d2c6a8141642",
   "metadata": {
    "tags": []
   },
   "outputs": [],
   "source": [
    "\n",
    "t = trange(MAX_ITERS, desc='Bar desc', leave=True)\n",
    "\n",
    "for steps in t:\n",
    "\n",
    "    if steps % EVAL_INTERVAL == 0:\n",
    "        losses = estimate_loss()\n",
    "        t.set_description(f\"Losses: train = {losses['train']:.4f} | test = {losses['val']:.4f}\", refresh= True)\n",
    "        \n",
    "    xb, yb = build_batch('train')\n",
    "    logits, loss = m(xb, yb)\n",
    "    optimizer.zero_grad(set_to_none=True)\n",
    "    loss.backward()\n",
    "    optimizer.step()\n",
    "    t.refresh()\n",
    "    break"
   ]
  },
  {
   "cell_type": "code",
   "execution_count": null,
   "id": "ad02ab3d-b2a1-4adb-803d-5b7a01cb3687",
   "metadata": {
    "tags": []
   },
   "outputs": [],
   "source": []
  },
  {
   "cell_type": "code",
   "execution_count": null,
   "id": "a67a072b-ecc4-4b82-98a9-60b53d92eb73",
   "metadata": {},
   "outputs": [],
   "source": []
  },
  {
   "cell_type": "code",
   "execution_count": null,
   "id": "fba2f108-9bb5-4721-86e5-7c384be5e308",
   "metadata": {
    "tags": []
   },
   "outputs": [],
   "source": [
    "\n",
    "    \n"
   ]
  }
 ],
 "metadata": {
  "kernelspec": {
   "display_name": "Python 3 (ipykernel)",
   "language": "python",
   "name": "python3"
  },
  "language_info": {
   "codemirror_mode": {
    "name": "ipython",
    "version": 3
   },
   "file_extension": ".py",
   "mimetype": "text/x-python",
   "name": "python",
   "nbconvert_exporter": "python",
   "pygments_lexer": "ipython3",
   "version": "3.10.9"
  }
 },
 "nbformat": 4,
 "nbformat_minor": 5
}
